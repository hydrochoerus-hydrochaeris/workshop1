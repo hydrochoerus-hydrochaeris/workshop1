{
 "cells": [
  {
   "cell_type": "markdown",
   "id": "417b8a75-1c6e-42ad-a021-85cbbe49cca5",
   "metadata": {},
   "source": [
    "# Предсказание цены автомобиля на вторичном рынке\n",
    "\n",
    "_Учебный проект в рамках «Мастерской» Яндекс.Практикума_"
   ]
  },
  {
   "cell_type": "markdown",
   "id": "e0c289c4-c018-4307-a103-890ea41e0d23",
   "metadata": {},
   "source": [
    "## Основные выводы"
   ]
  },
  {
   "cell_type": "markdown",
   "id": "0b7a196b-418e-441a-8d69-c62044286505",
   "metadata": {},
   "source": [
    "В этом учебном проекте была построена модель машинного обучения, которая предсказывает цену автомобиля на вторичном рынке. В качестве исходных данных использовался датасет об автомобилях, проданных на аукционах. Для оценки качества модели применялась метрика MAPE.\n",
    "\n",
    "На этапе предобработки данных пришлось обойтись без преобразований, которые казались мне особенно полезными, потому что для таких преобразований нужно профессионально разбираться в рынке подержанных автомобилей США и иметь достаточно времени и других ресурсов — например, чтобы превратить коммерческие названия модификаций автомобилей в объективный рейтинг «навороченности». Также пришлось обойтись довольно примитивной обработкой пропущенных значений, потому что для полноценной обработки следовало бы строить разные модели для разных наборов значений.\n",
    "\n",
    "По некоторым признакам можно заподозрить элементы искусственного происхождения исходного набора данных: в частности, странно, что за полтора года ни один из 550 тыс. автомобилей не был продан более одного раза.\r\n",
    "\r\n",
    "Строилась регрессионная модель на основе случайного леса (`RandomForestRegressor`). Для подбора гиперпараметров использовался самодельный аналог `GridSearchCV`. Из-за того, что на моём компьютере таким методом модели перебирались недопустимо долго, пришлось ограничиться выбором из 9 моделей с разными гиперпараметрами.\r\n",
    "\r\n",
    "Была выбрана модель с 300 деревьями и максимальной глубиной дерева 20, её MAPE составил 0,167. Предсказания для тестовой выборки сохранены в файле `submission.csv`.\r\n",
    "\r\n",
    "Пробег автомобиля оказался главным фактором, от которого зависит цена; на втором месте с большим отрывом — возраст автомобиля."
   ]
  },
  {
   "cell_type": "markdown",
   "id": "e98155cb-5fc0-4af2-b27e-c10bd9e075a5",
   "metadata": {},
   "source": [
    "## Предобработка и исследовательский анализ данных"
   ]
  },
  {
   "cell_type": "markdown",
   "id": "1af21116-6c22-4677-863e-25f05da4acbd",
   "metadata": {},
   "source": [
    "### Обзор данных"
   ]
  },
  {
   "cell_type": "code",
   "execution_count": 40,
   "id": "92135d43-c412-44a3-9ae9-6a478af9e018",
   "metadata": {},
   "outputs": [],
   "source": [
    "import pandas as pd\n",
    "import random\n",
    "import matplotlib.pyplot as plt\n",
    "from sklearn.preprocessing import OneHotEncoder, StandardScaler\n",
    "from sklearn.ensemble import RandomForestRegressor\n",
    "from sklearn.metrics import mean_absolute_percentage_error"
   ]
  },
  {
   "cell_type": "code",
   "execution_count": 2,
   "id": "2ec5e63a-98b3-4467-ab88-78112c1e1a62",
   "metadata": {},
   "outputs": [],
   "source": [
    "SAMPLES = ['train', 'test']\n",
    "SAMPLES_EXT = SAMPLES + ['combined']"
   ]
  },
  {
   "cell_type": "code",
   "execution_count": 3,
   "id": "6655cf75-7cd7-4956-b30e-1782a08ade9b",
   "metadata": {},
   "outputs": [],
   "source": [
    "RANDOM_STATE_DEFAULT = 19180511\n",
    "\n",
    "# If we are to replace standard numerical probability usage with engineering judgment,\n",
    "# why do we find such an enormous disparity between the management estimate\n",
    "# and the judgment of the engineers? It would appear that, for whatever purpose, […]\n",
    "# the management […] exaggerates the reliability of its product, to the point of fantasy.\n",
    "# -- Richard Feynman in the Rogers Commission Report"
   ]
  },
  {
   "cell_type": "markdown",
   "id": "dab38ba8-c1c6-4e4d-ad3b-19952d1bf406",
   "metadata": {},
   "source": [
    "В обучающей выборке 440 236 записей, в тестовой — 110 060. Размеры различаются почти точно в 4 раза."
   ]
  },
  {
   "cell_type": "code",
   "execution_count": 4,
   "id": "3892f151-ae33-401f-8dfa-56120bea9aca",
   "metadata": {},
   "outputs": [
    {
     "name": "stdout",
     "output_type": "stream",
     "text": [
      "Размер выборок: train — 440236, test — 110060 (разница в 3.9999636561875342 раза)\n"
     ]
    }
   ],
   "source": [
    "# выборки: df['train'] — обучающая, df['test'] — тестовая\n",
    "df = dict(zip(SAMPLES, [pd.read_csv(s + '.csv') for s in SAMPLES]))\n",
    "print(f'Размер выборок: train — {df[\"train\"].shape[0]}, test — {df[\"test\"].shape[0]}'\n",
    "      f' (разница в {df[\"train\"].shape[0]/df[\"test\"].shape[0]} раза)')"
   ]
  },
  {
   "cell_type": "markdown",
   "id": "ee008317-46a0-4292-9e47-0676bcc65602",
   "metadata": {},
   "source": [
    "Наборы столбцов различаются тем, что в обучающей выборке есть столбец `sellingprice`, а в тестовой нет:"
   ]
  },
  {
   "cell_type": "code",
   "execution_count": 5,
   "id": "23d6f465-e78c-4fae-962d-ef1deec3560f",
   "metadata": {},
   "outputs": [
    {
     "name": "stdout",
     "output_type": "stream",
     "text": [
      "Столбцы из train, которых нет в test: Index(['sellingprice'], dtype='object')\n",
      "Столбцы из test, которых нет в train: Index([], dtype='object')\n"
     ]
    }
   ],
   "source": [
    "diff = df['train'].columns.difference(df['test'].columns)\n",
    "print('Столбцы из train, которых нет в test:', diff)\n",
    "print('Столбцы из test, которых нет в train:', df['test'].columns.difference(df['train'].columns))"
   ]
  },
  {
   "cell_type": "markdown",
   "id": "0faa7a7f-10b0-4f03-a561-37432cb176b6",
   "metadata": {},
   "source": [
    "В остальном наборы столбцов и типы их данных идентичны:"
   ]
  },
  {
   "cell_type": "code",
   "execution_count": 6,
   "id": "54783b23-2238-44c8-98af-b2432a227f60",
   "metadata": {},
   "outputs": [
    {
     "name": "stdout",
     "output_type": "stream",
     "text": [
      "Наборы столбцов идентичны: True\n"
     ]
    }
   ],
   "source": [
    "print('Наборы столбцов идентичны:', df['train'].drop(diff, axis=1).columns.identical(df['test'].columns))"
   ]
  },
  {
   "cell_type": "markdown",
   "id": "4b520464-e64f-4a56-ac69-10f6baf228fd",
   "metadata": {},
   "source": [
    "Для первичного исследования объединим обучающую и тестовую выборки в одну (без столбца `sellingprice`):"
   ]
  },
  {
   "cell_type": "code",
   "execution_count": 7,
   "id": "c557ffb7-de66-4e08-a385-0e5d363353a1",
   "metadata": {},
   "outputs": [],
   "source": [
    "df['combined'] = pd.concat([df['train'].drop('sellingprice', axis=1), df['test']])"
   ]
  },
  {
   "cell_type": "markdown",
   "id": "a367bdc7-9b57-45ab-a690-be16b59dc48a",
   "metadata": {},
   "source": [
    "Чтобы получить общее представление о содержимом выборок, рассмотрим несколько случайных строк:"
   ]
  },
  {
   "cell_type": "code",
   "execution_count": 8,
   "id": "bc79cd2c-8a09-4bed-9ae3-b0c35dfd7302",
   "metadata": {},
   "outputs": [
    {
     "data": {
      "text/html": [
       "<div>\n",
       "<style scoped>\n",
       "    .dataframe tbody tr th:only-of-type {\n",
       "        vertical-align: middle;\n",
       "    }\n",
       "\n",
       "    .dataframe tbody tr th {\n",
       "        vertical-align: top;\n",
       "    }\n",
       "\n",
       "    .dataframe thead th {\n",
       "        text-align: right;\n",
       "    }\n",
       "</style>\n",
       "<table border=\"1\" class=\"dataframe\">\n",
       "  <thead>\n",
       "    <tr style=\"text-align: right;\">\n",
       "      <th></th>\n",
       "      <th>year</th>\n",
       "      <th>make</th>\n",
       "      <th>model</th>\n",
       "      <th>trim</th>\n",
       "      <th>body</th>\n",
       "      <th>transmission</th>\n",
       "      <th>vin</th>\n",
       "      <th>state</th>\n",
       "      <th>condition</th>\n",
       "      <th>odometer</th>\n",
       "      <th>color</th>\n",
       "      <th>interior</th>\n",
       "      <th>seller</th>\n",
       "      <th>saledate</th>\n",
       "    </tr>\n",
       "  </thead>\n",
       "  <tbody>\n",
       "    <tr>\n",
       "      <th>21683</th>\n",
       "      <td>2005</td>\n",
       "      <td>cadillac</td>\n",
       "      <td>srx</td>\n",
       "      <td>awd v6</td>\n",
       "      <td>NaN</td>\n",
       "      <td>automatic</td>\n",
       "      <td>1gyee637850221737</td>\n",
       "      <td>fl</td>\n",
       "      <td>2.1</td>\n",
       "      <td>142275.0</td>\n",
       "      <td>gold</td>\n",
       "      <td>beige</td>\n",
       "      <td>infiniti of tampa</td>\n",
       "      <td>Thu Jan 08 2015 16:30:00 GMT-0800 (PST)</td>\n",
       "    </tr>\n",
       "    <tr>\n",
       "      <th>91385</th>\n",
       "      <td>2010</td>\n",
       "      <td>Dodge</td>\n",
       "      <td>Caliber</td>\n",
       "      <td>Mainstreet</td>\n",
       "      <td>Wagon</td>\n",
       "      <td>automatic</td>\n",
       "      <td>1b3cb3ha6ad587595</td>\n",
       "      <td>fl</td>\n",
       "      <td>3.6</td>\n",
       "      <td>69193.0</td>\n",
       "      <td>silver</td>\n",
       "      <td>black</td>\n",
       "      <td>capital one auto finance</td>\n",
       "      <td>Wed Feb 25 2015 01:10:00 GMT-0800 (PST)</td>\n",
       "    </tr>\n",
       "    <tr>\n",
       "      <th>95600</th>\n",
       "      <td>2005</td>\n",
       "      <td>Mazda</td>\n",
       "      <td>Mazda6</td>\n",
       "      <td>i</td>\n",
       "      <td>Sedan</td>\n",
       "      <td>manual</td>\n",
       "      <td>1yvhp80c355m66419</td>\n",
       "      <td>hi</td>\n",
       "      <td>2.6</td>\n",
       "      <td>100001.0</td>\n",
       "      <td>orange</td>\n",
       "      <td>black</td>\n",
       "      <td>first hawaiian bank</td>\n",
       "      <td>Tue Dec 23 2014 14:30:00 GMT-0800 (PST)</td>\n",
       "    </tr>\n",
       "    <tr>\n",
       "      <th>144352</th>\n",
       "      <td>2008</td>\n",
       "      <td>Chevrolet</td>\n",
       "      <td>Avalanche</td>\n",
       "      <td>LT</td>\n",
       "      <td>Crew Cab</td>\n",
       "      <td>automatic</td>\n",
       "      <td>3gnfk12318g235491</td>\n",
       "      <td>pa</td>\n",
       "      <td>2.9</td>\n",
       "      <td>68036.0</td>\n",
       "      <td>orange</td>\n",
       "      <td>beige</td>\n",
       "      <td>joe ball pontiac gmc commercial trucks</td>\n",
       "      <td>Wed Feb 11 2015 01:30:00 GMT-0800 (PST)</td>\n",
       "    </tr>\n",
       "    <tr>\n",
       "      <th>335199</th>\n",
       "      <td>2013</td>\n",
       "      <td>Ford</td>\n",
       "      <td>Explorer</td>\n",
       "      <td>XLT</td>\n",
       "      <td>SUV</td>\n",
       "      <td>automatic</td>\n",
       "      <td>1fm5k7d82dga79222</td>\n",
       "      <td>ga</td>\n",
       "      <td>2.8</td>\n",
       "      <td>27961.0</td>\n",
       "      <td>—</td>\n",
       "      <td>gray</td>\n",
       "      <td>ford motor credit company,llc pd</td>\n",
       "      <td>Tue May 26 2015 02:30:00 GMT-0700 (PDT)</td>\n",
       "    </tr>\n",
       "  </tbody>\n",
       "</table>\n",
       "</div>"
      ],
      "text/plain": [
       "        year       make      model        trim      body transmission   \n",
       "21683   2005   cadillac        srx      awd v6       NaN    automatic  \\\n",
       "91385   2010      Dodge    Caliber  Mainstreet     Wagon    automatic   \n",
       "95600   2005      Mazda     Mazda6           i     Sedan       manual   \n",
       "144352  2008  Chevrolet  Avalanche          LT  Crew Cab    automatic   \n",
       "335199  2013       Ford   Explorer         XLT       SUV    automatic   \n",
       "\n",
       "                      vin state  condition  odometer   color interior   \n",
       "21683   1gyee637850221737    fl        2.1  142275.0    gold    beige  \\\n",
       "91385   1b3cb3ha6ad587595    fl        3.6   69193.0  silver    black   \n",
       "95600   1yvhp80c355m66419    hi        2.6  100001.0  orange    black   \n",
       "144352  3gnfk12318g235491    pa        2.9   68036.0  orange    beige   \n",
       "335199  1fm5k7d82dga79222    ga        2.8   27961.0       —     gray   \n",
       "\n",
       "                                        seller   \n",
       "21683                        infiniti of tampa  \\\n",
       "91385                 capital one auto finance   \n",
       "95600                      first hawaiian bank   \n",
       "144352  joe ball pontiac gmc commercial trucks   \n",
       "335199        ford motor credit company,llc pd   \n",
       "\n",
       "                                       saledate  \n",
       "21683   Thu Jan 08 2015 16:30:00 GMT-0800 (PST)  \n",
       "91385   Wed Feb 25 2015 01:10:00 GMT-0800 (PST)  \n",
       "95600   Tue Dec 23 2014 14:30:00 GMT-0800 (PST)  \n",
       "144352  Wed Feb 11 2015 01:30:00 GMT-0800 (PST)  \n",
       "335199  Tue May 26 2015 02:30:00 GMT-0700 (PDT)  "
      ]
     },
     "metadata": {},
     "output_type": "display_data"
    }
   ],
   "source": [
    "random.seed(RANDOM_STATE_DEFAULT)\n",
    "display(df['combined'].iloc[sorted(random.sample(range(df['combined'].shape[0]), 5))])"
   ]
  },
  {
   "cell_type": "markdown",
   "id": "0f8094c8-1628-45a5-9aa2-b2b51246baaf",
   "metadata": {},
   "source": [
    "### Индексация строк"
   ]
  },
  {
   "cell_type": "markdown",
   "id": "e6c4c4a9-42a8-4037-97ae-68f28a5bffca",
   "metadata": {},
   "source": [
    "Все значения VIN в датасете уникальны:"
   ]
  },
  {
   "cell_type": "code",
   "execution_count": 9,
   "id": "bf424dc3-cec1-40b2-8dc3-72974c1dcf98",
   "metadata": {},
   "outputs": [
    {
     "name": "stdout",
     "output_type": "stream",
     "text": [
      "Дублирующихся значений VIN:  0\n"
     ]
    }
   ],
   "source": [
    "print('Дублирующихся значений VIN: ',\n",
    "      df['combined']['vin'].duplicated().sum())"
   ]
  },
  {
   "cell_type": "markdown",
   "id": "830cda98-b205-43da-bb9a-312b929ef39e",
   "metadata": {},
   "source": [
    "Сделаем VIN индексом всех таблиц:"
   ]
  },
  {
   "cell_type": "code",
   "execution_count": 10,
   "id": "fcbeef3f-4ba1-4263-904c-0661df9c1034",
   "metadata": {
    "scrolled": true
   },
   "outputs": [],
   "source": [
    "for s in SAMPLES_EXT:\n",
    "    df[s].set_index('vin', inplace=True, verify_integrity=True)"
   ]
  },
  {
   "cell_type": "markdown",
   "id": "2c36a78a-298a-43e1-85f5-f0c41b35ebae",
   "metadata": {},
   "source": [
    "### Пропущенные значения"
   ]
  },
  {
   "cell_type": "markdown",
   "id": "f90f4c03-91e6-4d81-93d8-490d8d4cad31",
   "metadata": {},
   "source": [
    "В 5 столбцах нет пропущенных значений, почти во всех остальных пропущено не более 2 % значений, и только в столбце `transmission` — 11,7 %:"
   ]
  },
  {
   "cell_type": "code",
   "execution_count": 11,
   "id": "1253554a-f840-4e10-947f-48ebc8bf320d",
   "metadata": {},
   "outputs": [
    {
     "data": {
      "text/html": [
       "<div>\n",
       "<style scoped>\n",
       "    .dataframe tbody tr th:only-of-type {\n",
       "        vertical-align: middle;\n",
       "    }\n",
       "\n",
       "    .dataframe tbody tr th {\n",
       "        vertical-align: top;\n",
       "    }\n",
       "\n",
       "    .dataframe thead th {\n",
       "        text-align: right;\n",
       "    }\n",
       "</style>\n",
       "<table border=\"1\" class=\"dataframe\">\n",
       "  <thead>\n",
       "    <tr style=\"text-align: right;\">\n",
       "      <th></th>\n",
       "      <th>dtype</th>\n",
       "      <th>isna</th>\n",
       "      <th>%</th>\n",
       "    </tr>\n",
       "    <tr>\n",
       "      <th>column</th>\n",
       "      <th></th>\n",
       "      <th></th>\n",
       "      <th></th>\n",
       "    </tr>\n",
       "  </thead>\n",
       "  <tbody>\n",
       "    <tr>\n",
       "      <th>year</th>\n",
       "      <td>int64</td>\n",
       "      <td>0</td>\n",
       "      <td>0.00</td>\n",
       "    </tr>\n",
       "    <tr>\n",
       "      <th>make</th>\n",
       "      <td>object</td>\n",
       "      <td>10104</td>\n",
       "      <td>1.84</td>\n",
       "    </tr>\n",
       "    <tr>\n",
       "      <th>model</th>\n",
       "      <td>object</td>\n",
       "      <td>10202</td>\n",
       "      <td>1.85</td>\n",
       "    </tr>\n",
       "    <tr>\n",
       "      <th>trim</th>\n",
       "      <td>object</td>\n",
       "      <td>10451</td>\n",
       "      <td>1.90</td>\n",
       "    </tr>\n",
       "    <tr>\n",
       "      <th>body</th>\n",
       "      <td>object</td>\n",
       "      <td>12987</td>\n",
       "      <td>2.36</td>\n",
       "    </tr>\n",
       "    <tr>\n",
       "      <th>transmission</th>\n",
       "      <td>object</td>\n",
       "      <td>64473</td>\n",
       "      <td>11.72</td>\n",
       "    </tr>\n",
       "    <tr>\n",
       "      <th>state</th>\n",
       "      <td>object</td>\n",
       "      <td>0</td>\n",
       "      <td>0.00</td>\n",
       "    </tr>\n",
       "    <tr>\n",
       "      <th>condition</th>\n",
       "      <td>float64</td>\n",
       "      <td>11784</td>\n",
       "      <td>2.14</td>\n",
       "    </tr>\n",
       "    <tr>\n",
       "      <th>odometer</th>\n",
       "      <td>float64</td>\n",
       "      <td>88</td>\n",
       "      <td>0.02</td>\n",
       "    </tr>\n",
       "    <tr>\n",
       "      <th>color</th>\n",
       "      <td>object</td>\n",
       "      <td>744</td>\n",
       "      <td>0.14</td>\n",
       "    </tr>\n",
       "    <tr>\n",
       "      <th>interior</th>\n",
       "      <td>object</td>\n",
       "      <td>744</td>\n",
       "      <td>0.14</td>\n",
       "    </tr>\n",
       "    <tr>\n",
       "      <th>seller</th>\n",
       "      <td>object</td>\n",
       "      <td>0</td>\n",
       "      <td>0.00</td>\n",
       "    </tr>\n",
       "    <tr>\n",
       "      <th>saledate</th>\n",
       "      <td>object</td>\n",
       "      <td>0</td>\n",
       "      <td>0.00</td>\n",
       "    </tr>\n",
       "  </tbody>\n",
       "</table>\n",
       "</div>"
      ],
      "text/plain": [
       "                dtype   isna      %\n",
       "column                             \n",
       "year            int64      0   0.00\n",
       "make           object  10104   1.84\n",
       "model          object  10202   1.85\n",
       "trim           object  10451   1.90\n",
       "body           object  12987   2.36\n",
       "transmission   object  64473  11.72\n",
       "state          object      0   0.00\n",
       "condition     float64  11784   2.14\n",
       "odometer      float64     88   0.02\n",
       "color          object    744   0.14\n",
       "interior       object    744   0.14\n",
       "seller         object      0   0.00\n",
       "saledate       object      0   0.00"
      ]
     },
     "execution_count": 11,
     "metadata": {},
     "output_type": "execute_result"
    }
   ],
   "source": [
    "df_columns = df['combined'].columns.to_frame(name='column', index=False)\n",
    "# ⚠️ дублирование кода; не успел к дедлайну привести в порядок\n",
    "df_columns = pd.concat([df_columns,\n",
    "                        pd.Series([df['combined'][c].dtype\n",
    "                            for c in df_columns['column']],\n",
    "                           name='dtype')], axis=1)\n",
    "df_columns = pd.concat([df_columns,\n",
    "                        pd.Series([df['combined'][c].isna().sum()\n",
    "                            for c in df_columns['column']],\n",
    "                           name='isna')], axis=1)\n",
    "size_combined = df['combined'].shape[0]\n",
    "df_columns['%'] = round((df_columns['isna'] / size_combined) * 100, 2)\n",
    "df_columns.set_index('column', inplace=True)\n",
    "df_columns"
   ]
  },
  {
   "cell_type": "markdown",
   "id": "20cb6b56-cf28-48bc-a1c2-9b155d4bffc6",
   "metadata": {},
   "source": [
    "Как обработать пропущенные значения? Я категорически против того, чтобы заполнять какие-то из них фиктивными данными вроде `Unknown` или `Other`, потому что это ухудшит качество датасета. Например, если пропущена марка автомобиля (`make`) — это же не значит, что никакой марки не было. У автомобиля есть марка, причём она более чем наверняка входит в список остальных, не пропущенных марок; просто по какой-то причине она оказалась не внесена в выгрузку. Если в этом случае заменить пропущенное значение на `Unknown`, то модель воспримет это как отдельную, новую марку, что не соответствует действительности. Если же заменить на `Unknown` _все_ пропущенные марки, то модель подумает, будто все эти автомобили относятся к одной марке, что тоже не соответствует действительности.\n",
    "\n",
    "Если бы у меня было больше времени и квалификации, я бы начал с того, чтобы _реконструировать_ правильные значения там, где это возможно на основании остальных данных. Например, если пропущена марка, но известна модель (`model`) автомобиля,— чаще всего первое можно восстановить по второму. Аналогично, если пропущен тип коробки передач (`transmission`), то в большинстве случаев эта информация однозначно восстанавливается из остальных данных. (Правда, не всегда: здесь пришлось бы каким-то образом добывать и подключать информацию о том, какого типа коробки передач в реальности были у каждой марки, модели и модификации из перечисленных в датасете.)\n",
    "\n",
    "После реконструкции всё равно останутся пропущенные значения. Мне кажется, что правильнее всего было бы построить _разные_ модели ML для данных разной степени полноты: одну модель — для случая, когда все столбцы заполнены, другую — без столбца `make`, третью — без `trim` и `transmission`, и так для всех сочетаний, которые фактически встречаются в нашем датасете.\n",
    "\n",
    "В этой работе я иду простым путём и просто избавляюсь от всех пропусков."
   ]
  },
  {
   "cell_type": "markdown",
   "id": "6a757e87-af15-4d17-be15-662a9d2307c8",
   "metadata": {},
   "source": [
    "#### Цена продажи"
   ]
  },
  {
   "cell_type": "markdown",
   "id": "9968b3bf-a3b5-44f2-a39c-8877fd3f7d97",
   "metadata": {},
   "source": [
    "В столбце `sellingprice` нет пропущенных значений:"
   ]
  },
  {
   "cell_type": "code",
   "execution_count": 12,
   "id": "65d74706-7665-4e14-b4a5-9b992aee63cb",
   "metadata": {},
   "outputs": [
    {
     "name": "stdout",
     "output_type": "stream",
     "text": [
      "Количество пропущенных цен продажи: 0\n"
     ]
    }
   ],
   "source": [
    "print('Количество пропущенных цен продажи:',\n",
    "      df['train']['sellingprice'].isna().sum())"
   ]
  },
  {
   "cell_type": "markdown",
   "id": "13e49ac1-4795-4182-a9ec-c53b0a009420",
   "metadata": {},
   "source": [
    "До тех пор, пока нет отдельных моделей для разных случаев с пропущенными значениями, для всех таких случаев наша модель будет предсказывать медианную цену продажи из обучающей выборки. Эта цена составляет 12,1 тыс. долл. (В условиях задачи не указано, в какой валюте выражены цены, однако поскольку дело происходит в США, логично предположить, что в долларах.)"
   ]
  },
  {
   "cell_type": "code",
   "execution_count": 13,
   "id": "1b6dbe86-5ca9-482a-b3f3-85bba512f12b",
   "metadata": {},
   "outputs": [
    {
     "name": "stdout",
     "output_type": "stream",
     "text": [
      "Медианная цена продажи = 12100.0\n"
     ]
    }
   ],
   "source": [
    "median_price = df['train']['sellingprice'].median()\n",
    "print('Медианная цена продажи =', median_price)"
   ]
  },
  {
   "cell_type": "markdown",
   "id": "43381f24-a5ae-45de-b679-5a5c36d345a4",
   "metadata": {},
   "source": [
    "#### Удаляем пропуски"
   ]
  },
  {
   "cell_type": "markdown",
   "id": "dd165330-0f80-402e-b5a5-ba77b77f0310",
   "metadata": {},
   "source": [
    "Сохраним индексы строк с пропусками, затем удалим эти строки из датасета:"
   ]
  },
  {
   "cell_type": "code",
   "execution_count": 14,
   "id": "40b3e70e-331c-41be-9377-d981ae1abd9a",
   "metadata": {},
   "outputs": [],
   "source": [
    "na_idx = {}\n",
    "for s in SAMPLES_EXT:\n",
    "    na_idx[s] = df[s].index[df[s].isna().any(axis=1)].tolist()\n",
    "    df[s].dropna(inplace=True)"
   ]
  },
  {
   "cell_type": "markdown",
   "id": "abf19bf2-f1c6-46b8-931e-2ef4cb9c3534",
   "metadata": {},
   "source": [
    "Проверим новый размер выборок:"
   ]
  },
  {
   "cell_type": "code",
   "execution_count": 15,
   "id": "c2407b06-8e08-4216-979a-08808db93ef9",
   "metadata": {
    "scrolled": true
   },
   "outputs": [
    {
     "name": "stdout",
     "output_type": "stream",
     "text": [
      "Размер выборок: train — 372090, test — 92806 (разница в 4.009331293235351 раза)\n"
     ]
    }
   ],
   "source": [
    "print(f'Размер выборок: train — {df[\"train\"].shape[0]}, test — {df[\"test\"].shape[0]}'\n",
    "      f' (разница в {df[\"train\"].shape[0]/df[\"test\"].shape[0]} раза)')"
   ]
  },
  {
   "cell_type": "markdown",
   "id": "48d85952-d89b-4136-b985-90c1639c485c",
   "metadata": {},
   "source": [
    "Далее будем исследовать данные без учёта удалённых строк. Это сужает диапазон данных для модели ML: например, из рассмотрения исчезают автомобили, выпущенные до 1990 года, а также некоторые редкие модели. Повторю, что в данном случае я иду на это упрощение из соображений дедлайна."
   ]
  },
  {
   "cell_type": "markdown",
   "id": "e73ef0ab-ece1-4c85-8627-d7b48a171f16",
   "metadata": {},
   "source": [
    "### Даты"
   ]
  },
  {
   "cell_type": "markdown",
   "id": "459ba083-1f2e-43a9-a654-bdacdc60241b",
   "metadata": {},
   "source": [
    "Даты всех продаж лежат в пределах примерно полутора лет: от 01.01.2014 до 20.07.2015. (Сразу можно сказать, что в 2023 году построение моделей по таким данным имеет мало практического смысла, если только мы не хотим специально предсказывать _исторические_ данные.)"
   ]
  },
  {
   "cell_type": "code",
   "execution_count": 16,
   "id": "7b4db975-f107-494b-b79e-a3ec53c3b4d0",
   "metadata": {},
   "outputs": [
    {
     "name": "stderr",
     "output_type": "stream",
     "text": [
      "C:\\Users\\Rostislav\\AppData\\Local\\Temp\\ipykernel_27416\\1726867738.py:1: UserWarning: Could not infer format, so each element will be parsed individually, falling back to `dateutil`. To ensure parsing is consistent and as-expected, please specify a format.\n",
      "  dates = pd.to_datetime(df['combined']['saledate'], utc=True)\n"
     ]
    },
    {
     "name": "stdout",
     "output_type": "stream",
     "text": [
      "Даты продаж: от 2014-01-01 до 2015-07-20\n"
     ]
    }
   ],
   "source": [
    "dates = pd.to_datetime(df['combined']['saledate'], utc=True)\n",
    "print('Даты продаж: от', dates.min().date(), 'до', dates.max().date())"
   ]
  },
  {
   "cell_type": "markdown",
   "id": "f26b33a6-26ac-48bf-b7e2-90543577177a",
   "metadata": {},
   "source": [
    "Проданные автомобили выпущены с 1990 до 2015 года:"
   ]
  },
  {
   "cell_type": "code",
   "execution_count": 17,
   "id": "9cb2f6d0-d656-4c80-aa26-993e425426c7",
   "metadata": {},
   "outputs": [
    {
     "name": "stdout",
     "output_type": "stream",
     "text": [
      "Год выпуска автомобилей: от 1990 до 2015\n"
     ]
    }
   ],
   "source": [
    "print('Год выпуска автомобилей: от', df['combined']['year'].min(), 'до', df['combined']['year'].max())"
   ]
  },
  {
   "cell_type": "markdown",
   "id": "81416ee6-a55b-443d-8788-1a403ef3d355",
   "metadata": {},
   "source": [
    "Введём столбец `age` — возраст автомобиля, то есть количество лет от его выпуска до продажи:"
   ]
  },
  {
   "cell_type": "code",
   "execution_count": 18,
   "id": "cd7fe3a3-1e1a-4bcf-8395-3f962031ea21",
   "metadata": {},
   "outputs": [
    {
     "name": "stderr",
     "output_type": "stream",
     "text": [
      "C:\\Users\\Rostislav\\AppData\\Local\\Temp\\ipykernel_27416\\2050068047.py:2: UserWarning: Could not infer format, so each element will be parsed individually, falling back to `dateutil`. To ensure parsing is consistent and as-expected, please specify a format.\n",
      "  df[s]['sale_year'] = pd.to_datetime(df[s]['saledate'], utc=True).dt.year\n",
      "C:\\Users\\Rostislav\\AppData\\Local\\Temp\\ipykernel_27416\\2050068047.py:2: UserWarning: Could not infer format, so each element will be parsed individually, falling back to `dateutil`. To ensure parsing is consistent and as-expected, please specify a format.\n",
      "  df[s]['sale_year'] = pd.to_datetime(df[s]['saledate'], utc=True).dt.year\n",
      "C:\\Users\\Rostislav\\AppData\\Local\\Temp\\ipykernel_27416\\2050068047.py:2: UserWarning: Could not infer format, so each element will be parsed individually, falling back to `dateutil`. To ensure parsing is consistent and as-expected, please specify a format.\n",
      "  df[s]['sale_year'] = pd.to_datetime(df[s]['saledate'], utc=True).dt.year\n"
     ]
    },
    {
     "name": "stdout",
     "output_type": "stream",
     "text": [
      "Возраст автомобилей (лет): от -1 до 25\n"
     ]
    }
   ],
   "source": [
    "for s in SAMPLES_EXT:\n",
    "    df[s]['sale_year'] = pd.to_datetime(df[s]['saledate'], utc=True).dt.year\n",
    "    df[s]['age'] = df[s]['sale_year'] - df[s]['year']\n",
    "print('Возраст автомобилей (лет): от', df['combined']['age'].min(), 'до', df['combined']['age'].max())"
   ]
  },
  {
   "cell_type": "markdown",
   "id": "9d201fd3-26d7-4e4c-abcb-f21d94721f2f",
   "metadata": {},
   "source": [
    "У 157 автомобилей оказался отрицательный возраст: −1 год. Все эти автомобили проданы в 2014 году, а выпущены якобы в 2015. Это в целом приемлемо: нет ничего удивительного в том, что отдельные автомобили проданы за год до их официальной даты выпуска. Это могут быть как автомобили, реально произведённые заранее, так и «фьючерсные» продажи ещё не произведённых автомобилей."
   ]
  },
  {
   "cell_type": "code",
   "execution_count": 19,
   "id": "9504387c-a107-49c9-b2e0-c4a30b160594",
   "metadata": {},
   "outputs": [
    {
     "name": "stdout",
     "output_type": "stream",
     "text": [
      "Количество автомобилей с отрицательным возрастом: 157\n",
      "Годы выпуска этих автомобилей: [2015]\n",
      "Даты продаж этих автомобилей: от 2014-01-01 до 2014-12-31\n"
     ]
    },
    {
     "name": "stderr",
     "output_type": "stream",
     "text": [
      "C:\\Users\\Rostislav\\AppData\\Local\\Temp\\ipykernel_27416\\2137417018.py:4: UserWarning: Could not infer format, so each element will be parsed individually, falling back to `dateutil`. To ensure parsing is consistent and as-expected, please specify a format.\n",
      "  bttf_dates = pd.to_datetime(bttf['saledate'], utc=True)\n"
     ]
    }
   ],
   "source": [
    "bttf = df['combined'][df['combined']['age'] < 0]\n",
    "print('Количество автомобилей с отрицательным возрастом:', bttf.shape[0])\n",
    "print('Годы выпуска этих автомобилей:', bttf['year'].unique().tolist())\n",
    "bttf_dates = pd.to_datetime(bttf['saledate'], utc=True)\n",
    "print('Даты продаж этих автомобилей: от', bttf_dates.min().date(), 'до', bttf_dates.max().date())"
   ]
  },
  {
   "cell_type": "markdown",
   "id": "32610052-1c29-4275-a586-85b173f65ac5",
   "metadata": {},
   "source": [
    "Зато тот факт, что даты продаж ровно вписываются в 2014 год (минимальная дата — самый первый день года, максимальная — самый последний), несколько настораживает и позволяет заподозрить фактор искусственности при комплектовании исходного датасета.\n",
    "\n",
    "Ещё отмечу, что в датасете нет данных о том, чтобы один и тот же VIN продавался бы более одного раза. Для набора из ~550 тыс. автомобилей за полтора года это более чем странно. В реальной жизни я бы уточнил у заказчика, каким образом формировался датасет: как отбирались попавшие в него аукционы из всего множества автомобильных аукционов, откуда брались конкретные данные о продажах, верифицировались ли они, не фильтровались ли и т. д. В нашем учебном случае могу только сказать, что это ещё один довод в пользу искусственности."
   ]
  },
  {
   "cell_type": "markdown",
   "id": "9d392da2-ca48-4aca-95fc-45a757f86e06",
   "metadata": {},
   "source": [
    "Столбцы с датами больше не нужны. Заодно удалим и столбец `seller` (продавец), потому что он вряд ли существенно влияет на цену:"
   ]
  },
  {
   "cell_type": "code",
   "execution_count": 20,
   "id": "44888f02-5655-4e5b-b8be-eb1319df5560",
   "metadata": {},
   "outputs": [],
   "source": [
    "for s in SAMPLES_EXT:\n",
    "    df[s].drop(['year', 'saledate', 'sale_year', 'seller'], axis=1, inplace=True)"
   ]
  },
  {
   "cell_type": "markdown",
   "id": "a2d2c948-c32b-4724-a2fe-82cc2c7958c0",
   "metadata": {},
   "source": [
    "### Текстовые столбцы"
   ]
  },
  {
   "cell_type": "markdown",
   "id": "5a6cfaf8-97b1-4359-81d5-34b11e38611f",
   "metadata": {},
   "source": [
    "Приведём текстовые столбцы к единому регистру, чтобы избежать разночтений типа `Sedan/sedan`:"
   ]
  },
  {
   "cell_type": "code",
   "execution_count": 21,
   "id": "d361d6df-3644-4e84-b0b5-db4df9ebb8cd",
   "metadata": {},
   "outputs": [],
   "source": [
    "for s in SAMPLES_EXT:\n",
    "    for column in ['make', 'model', 'body']:\n",
    "        df[s][column] = df[s][column].str.lower()"
   ]
  },
  {
   "cell_type": "markdown",
   "id": "3a767dca-ff4c-4d33-bc54-37dbd3b22c39",
   "metadata": {},
   "source": [
    "К сожалению, в предложенных обстоятельствах нет никакой возможности провести такую предобработку текстовых столбцов, которая на самом деле принесёт пользу и, вероятно, радикально улучшит качество модели:\n",
    "\n",
    "- Привести типы кузова (`body`) к единой системе из 7–10 основных типов (например, за отправную точку взять [Car body style](https://en.wikipedia.org/wiki/Car_body_style) из Википедии). Возможно, ввести двухуровневую классификацию типов кузова.\n",
    "- сделать модификацию (`trim`) порядковым значением, которое отражает «степень навороченности» автомобиля (в рамках его модельного ряда или глобально).\n",
    "- добавить классификацию по сегментам рынка (например, за отправную точку взять [Car classification](https://en.wikipedia.org/wiki/Car_classification) из Википедии).\n",
    "\n",
    "Для этого необходимо глубоко разбираться в американском рынке автомобилей, а также потратить время и силы на глубокую переработку данных. Если бы это была реальная коммерческая задача, я бы поставил перед заказчиком вопрос о том, что без подобных мер мы не получим сколько-либо адекватной модели, сколько ни выдрючивай MAPE или другие метрики на стадии обучения и валидации."
   ]
  },
  {
   "cell_type": "markdown",
   "id": "8e6ddf7d-332f-41c2-9e16-c09409f9208d",
   "metadata": {},
   "source": [
    "#### Удаляем лишние столбцы"
   ]
  },
  {
   "cell_type": "markdown",
   "id": "6e6edba7-dcea-4d0d-8a4b-48c00413efbc",
   "metadata": {},
   "source": [
    "Без такой предобработки данные о модификациях представляют собой просто мусор из 1,5 тыс. хаотичных значений, так что столбец `trim` можно просто удалить. Заодно удалим штат (`state`), чтоб два раза не ходить:"
   ]
  },
  {
   "cell_type": "code",
   "execution_count": 22,
   "id": "ce18126c-1759-4945-b793-f401867aad72",
   "metadata": {},
   "outputs": [
    {
     "name": "stdout",
     "output_type": "stream",
     "text": [
      "Количество уникальных модификаций: 1506\n"
     ]
    }
   ],
   "source": [
    "print('Количество уникальных модификаций:', len(df['combined']['trim'].unique()))\n",
    "for s in SAMPLES_EXT:\n",
    "    df[s].drop(['trim', 'state'], axis=1, inplace=True)"
   ]
  },
  {
   "cell_type": "markdown",
   "id": "656c1392-b1ed-4976-a002-4745a406216d",
   "metadata": {},
   "source": [
    "#### Сокращаем непопулярные опции"
   ]
  },
  {
   "cell_type": "markdown",
   "id": "335e52bc-e6ef-4be3-923b-78a61c9712f9",
   "metadata": {},
   "source": [
    "В датасете 764 модели автомобилей и 45 типов кузова. Попробуем сфокусировать модель только на самых популярных опциях, заменив остальные на `other`."
   ]
  },
  {
   "cell_type": "code",
   "execution_count": 23,
   "id": "2f5393de-141e-4d2f-9e77-67bebe228605",
   "metadata": {},
   "outputs": [
    {
     "name": "stdout",
     "output_type": "stream",
     "text": [
      "Всего моделей: 764\n",
      "104 модели занимают ~75 % всего датасета\n",
      "Всего типов кузова: 45\n",
      "13 типов кузова занимают ~97,5 % всего датасета\n"
     ]
    }
   ],
   "source": [
    "# ⚠️ дублирование кода; не успел к дедлайну привести в порядок\n",
    "\n",
    "model_dist = df['combined']['model'].value_counts(normalize=True).cumsum()\n",
    "model_pct = .75\n",
    "print('Всего моделей:', len(df['combined']['model'].unique()))\n",
    "print(f'{len(model_dist.index[model_dist <= model_pct])} модели занимают ~75 % всего датасета')\n",
    "\n",
    "model_tail = model_dist.index[model_dist > model_pct].tolist()\n",
    "for s in SAMPLES_EXT:\n",
    "    df[s].loc[df[s]['model'].isin(model_tail), 'model'] = 'other'\n",
    "\n",
    "body_dist = df['combined']['body'].value_counts(normalize=True).cumsum()\n",
    "body_pct = .975\n",
    "print('Всего типов кузова:', len(df['combined']['body'].unique()))\n",
    "print(f'{len(body_dist.index[body_dist <= body_pct])} типов кузова занимают ~97,5 % всего датасета')\n",
    "\n",
    "body_tail = body_dist.index[body_dist > body_pct].tolist()\n",
    "for s in SAMPLES_EXT:\n",
    "    df[s].loc[df[s]['body'].isin(body_tail), 'body'] = 'other'"
   ]
  },
  {
   "cell_type": "markdown",
   "id": "d9efe94f-50b7-4a8d-a3bf-25587b0bde9a",
   "metadata": {},
   "source": [
    "## Работа с моделью"
   ]
  },
  {
   "cell_type": "markdown",
   "id": "c4d2856c-8a45-455b-9c2d-d443e3378d9b",
   "metadata": {},
   "source": [
    "### Подготовка данных"
   ]
  },
  {
   "cell_type": "code",
   "execution_count": 24,
   "id": "0ca3b38f-457b-4d8e-bf8b-700341cc76fd",
   "metadata": {},
   "outputs": [],
   "source": [
    "# x — прогнозирующие признаки, y — целевые\n",
    "# Например, x['train'] — прогнозирующие признаки обучающей выборки\n",
    "x, y = [{'train': None, 'test': None} for _ in range(2)]\n",
    "df['test']['sellingprice'] = 0\n",
    "\n",
    "for s in SAMPLES:\n",
    "    x[s] = df[s].drop('sellingprice', axis=1)\n",
    "    y[s] = df[s].sellingprice"
   ]
  },
  {
   "cell_type": "code",
   "execution_count": 25,
   "id": "0c06cfc5-714d-4433-8d06-e1c97e4a915b",
   "metadata": {},
   "outputs": [],
   "source": [
    "# Категориальные и числовые признаки\n",
    "numeric_columns = ['condition', 'odometer', 'age']\n",
    "category_columns = x['train'].columns.difference(numeric_columns)"
   ]
  },
  {
   "cell_type": "code",
   "execution_count": 26,
   "id": "236a5249-6fd5-47e2-be4b-154c5a4001d2",
   "metadata": {},
   "outputs": [],
   "source": [
    "# Преобразуем категориальные признаки прямым кодированием…\n",
    "ohe = OneHotEncoder(handle_unknown='ignore')\n",
    "ohe.fit(x['train'][category_columns])\n",
    "\n",
    "# …а числовые признаки — нормированием\n",
    "scaler = StandardScaler()\n",
    "scaler.fit(x['train'][numeric_columns])\n",
    "\n",
    "# Применим обученные преобразования к обучающей и тестовой выборкам\n",
    "for s in SAMPLES:\n",
    "    x[s] = pd.concat([pd.DataFrame.sparse.from_spmatrix(ohe.transform(x[s][category_columns]),\n",
    "                                columns=ohe.get_feature_names_out(category_columns)),\n",
    "                   pd.DataFrame(scaler.transform(x[s][numeric_columns]),\n",
    "                                columns=numeric_columns)], axis=1)"
   ]
  },
  {
   "cell_type": "markdown",
   "id": "6a8d7e4b-21ec-45bb-9439-da6cd342ef67",
   "metadata": {},
   "source": [
    "### Подбор модели"
   ]
  },
  {
   "cell_type": "markdown",
   "id": "90bfd165-78f1-444b-ae0a-3c9a93560cc4",
   "metadata": {},
   "source": [
    "Будем использовать **случайный лес**, который лучше всего зарекомендовал себя в предыдущих учебных проектах."
   ]
  },
  {
   "cell_type": "markdown",
   "id": "c44e7f59-0532-409f-b02f-7404b985c47a",
   "metadata": {},
   "source": [
    "#### Алгоритм подбора"
   ]
  },
  {
   "cell_type": "markdown",
   "id": "78bdaf6f-3982-4321-80ec-750d64ce0e33",
   "metadata": {},
   "source": [
    "До недавнего времени я не знал о существовании функции `GridSearchCV()`, поэтому придумал собственную функцию, которая делает что-то похожее.\n",
    "\n",
    "Для случайного леса самым простым решением было бы перебрать во вложенном цикле все возможные комбинации гиперпараметров:\n",
    "\n",
    "```python\n",
    "for depth in range(1, много):  # максимальная глубина дерева\n",
    "    for est in range(1, много):  # количество деревьев\n",
    "        model = RandomForestRegressor(max_depth=depth, n_estimators=est, …)\n",
    "        # обучаем модель, вычисляем метрику, находим максимум по всем моделям…\n",
    "```\n",
    "\n",
    "Однако с таким полным перебором не справляется даже мой локальный компьютер. По опыту я считаю разумным проверять глубину дерева в диапазоне до 50 уровней, а количество деревьев — до 1000; построение 50 × 1000 = 50 000 моделей на имеющихся данных заняло бы на моём компьютере несколько месяцев. Кроме того, эту операцию пришлось бы повторять неоднократно по мере доработки и оптимизации кода.\n",
    "\n",
    "Поэтому я действую по такому алгоритму:\n",
    "\n",
    "1. Перебрать _разреженные_ диапазоны параметров. В этой задаче я начал всю процедуру с такого цикла:\n",
    "\n",
    "```python\n",
    "for depth in range(10, 21, 5):  # максимальная глубина дерева\n",
    "    for est in range(100, 301, 100):  # количество деревьев\n",
    "```\n",
    "\n",
    "2. Рассмотреть локальные максимумы MAPE (или другой метрики), полученные на предыдущем этапе, и перебрать параметры в окрестностях этих максимумов. В зависимости от ситуации параметры перебираются либо сразу с шагом 1, либо через промежуточный разреженный диапазон (например, для количества деревьев — с шагом 5).\n",
    "\n",
    "К сожалению, в данной задаче п. 2 не удался, потому что п. 1 занял полдня, и если бы я продолжал в том же духе, то вышел бы за все дедлайны. Также я изучал Optuna, но за имеющееся время не успел разобраться в ней настолько, чтобы эффективно применить вместо своего «велосипеда».\n",
    "\n",
    "Так что для обнаружения максимумов MAPE используется функция `sort_models()` и вспомогательная визуализация средствами seaborn."
   ]
  },
  {
   "cell_type": "code",
   "execution_count": 37,
   "id": "8aa3674a-14c1-4024-9e2f-07fba4bed01d",
   "metadata": {},
   "outputs": [],
   "source": [
    "def sort_models(depth_range, est_range):\n",
    "    '''Датафрейм с параметрами моделей:\n",
    "    количество деревьев, максимальная глубина, MAPE.\n",
    "    Датафрейм отсортирован от лучшего MAPE к худшему\n",
    "    '''\n",
    "    results = pd.DataFrame(columns=['n_estimators', 'max_depth', 'mape'])\n",
    "    for depth in depth_range:\n",
    "        for est in est_range:\n",
    "            model = RandomForestRegressor(max_depth=depth, n_estimators=est,\n",
    "                random_state=RANDOM_STATE_DEFAULT)\n",
    "            res = cross_validate(model, x['train'], y['train'],\n",
    "                scoring='neg_mean_absolute_percentage_error', n_jobs=-1)\n",
    "            mape_max = res['test_score'].max()\n",
    "            results.loc[len(results.index)] = [est, depth, mape_max]\n",
    "    return results"
   ]
  },
  {
   "attachments": {
    "e5d5d9fe-7654-4cdb-ab8e-1330ec0e969b.png": {
     "image/png": "[encoded data removed]"
    }
   },
   "cell_type": "markdown",
   "id": "d0c68d8c-8be0-4647-b63c-9f91dd953499",
   "metadata": {},
   "source": [
    "Для визуализации использовался `seaborn.scatterplot()`, например:\n",
    "\n",
    "```python\n",
    "sns.scatterplot(data=res, x='n_estimators', y='max_depth',\r\n",
    "    hue='mape', size='mape', sizes=(5, 2000), palette='Spectral', legend=False)\r\n",
    "plt.title('MAPE')\r\n",
    "pshow()\n",
    "```\n",
    "В моём ём случае получилась такая диаграмма:\n",
    "\n",
    "![mape.png](attachment:e5d5d9fe-7654-4cdb-ab8e-1330ec0e969b.png)``\n"
   ]
  },
  {
   "cell_type": "markdown",
   "id": "7024f029-2341-433e-8f32-21ef03ed94f8",
   "metadata": {},
   "source": [
    "#### Построение модели"
   ]
  },
  {
   "cell_type": "markdown",
   "id": "bc165bb5-67d2-4827-96c2-c3db3edb07ea",
   "metadata": {},
   "source": [
    "Используем лучшую из 9 исследованных моделей:"
   ]
  },
  {
   "cell_type": "code",
   "execution_count": 27,
   "id": "01a9fe8e-c6c0-4327-b9dd-75a5d7ce447c",
   "metadata": {},
   "outputs": [],
   "source": [
    "model = RandomForestRegressor(max_depth=20, n_estimators=300, n_jobs=-1,\n",
    "                              random_state=RANDOM_STATE_DEFAULT)\n",
    "model.fit(x['train'], y['train'])"
   ]
  },
  {
   "cell_type": "markdown",
   "id": "ee357544-6c40-406f-b75c-4aae11e826d0",
   "metadata": {},
   "source": [
    "MAPE для этой модели равно 0,167…"
   ]
  },
  {
   "cell_type": "code",
   "execution_count": 38,
   "id": "5381bbbf-3838-4c8d-b46f-4c715ed6e2e0",
   "metadata": {},
   "outputs": [
    {
     "name": "stderr",
     "output_type": "stream",
     "text": [
      "C:\\Users\\Rostislav\\AppData\\Local\\Programs\\Python\\Python311\\Lib\\site-packages\\sklearn\\utils\\validation.py:768: UserWarning: pandas.DataFrame with sparse columns found.It will be converted to a dense numpy array.\n",
      "  warnings.warn(\n"
     ]
    },
    {
     "name": "stdout",
     "output_type": "stream",
     "text": [
      "MAPE = 0.16703915140270434\n"
     ]
    }
   ],
   "source": [
    "print('MAPE =', mean_absolute_percentage_error(model.predict(x['train']), y['train']))"
   ]
  },
  {
   "cell_type": "markdown",
   "id": "a54343d6-962a-4330-9146-a2c4b7fe2ea8",
   "metadata": {},
   "source": [
    "### Формирование выходных данных"
   ]
  },
  {
   "cell_type": "code",
   "execution_count": 31,
   "id": "6fbe056b-058b-4e11-856e-b97b961bfbde",
   "metadata": {},
   "outputs": [
    {
     "name": "stderr",
     "output_type": "stream",
     "text": [
      "C:\\Users\\Rostislav\\AppData\\Local\\Programs\\Python\\Python311\\Lib\\site-packages\\sklearn\\utils\\validation.py:768: UserWarning: pandas.DataFrame with sparse columns found.It will be converted to a dense numpy array.\n",
      "  warnings.warn(\n"
     ]
    }
   ],
   "source": [
    "y['test'] = pd.Series(data=model.predict(x['test']), index=y['test'].index)"
   ]
  },
  {
   "cell_type": "code",
   "execution_count": 39,
   "id": "38b3888c-0032-46e3-960e-0ab92ae236fb",
   "metadata": {},
   "outputs": [],
   "source": [
    "# к выходным данным, кроме значений, которые предсказала модель,\n",
    "# добавляем ранее выброшенные vin с одинаковым медианным предсказанием\n",
    "output = pd.concat([y['test'], pd.Series(data=median_price, index=na_idx['test'])])\n",
    "output.name = 'sellingprice'\n",
    "\n",
    "# создаём файл submission.csv в соответствии с условиями задачи\n",
    "output.to_csv('submission.csv', index_label='vin', header='sellingprice')"
   ]
  },
  {
   "cell_type": "markdown",
   "id": "dc458961-9212-4551-8511-7d39f2edc6d7",
   "metadata": {},
   "source": [
    "### Важность признаков"
   ]
  },
  {
   "cell_type": "markdown",
   "id": "9923a8c9-aa34-48bc-9afb-256cba77f4ab",
   "metadata": {},
   "source": [
    "Анализ важности признаков показывает, что пробег (`odometer`) влияет на цену не менее чем в 4 раза больше, чем любой из остальных признаков. Также важен возраст (`age`), остальные параметры гораздо менее важны. При наличии ресурсов можно было бы перестроить модель только на основании `odometer` и `age` и сравнить, будет ли она сильно хуже имеющейся модели с богатым ассортиментом параметров."
   ]
  },
  {
   "cell_type": "code",
   "execution_count": 41,
   "id": "db96542b-5a52-44c3-b940-46577906bd69",
   "metadata": {},
   "outputs": [
    {
     "data": {
      "image/png": "[encoded data removed]",
      "text/plain": [
       "<Figure size 640x480 with 1 Axes>"
      ]
     },
     "metadata": {},
     "output_type": "display_data"
    }
   ],
   "source": [
    "pd.Series(model.feature_importances_,\n",
    "          index=x['train'].columns).sort_values(ascending=False).head(10).plot.bar()\n",
    "plt.show()"
   ]
  },
  {
   "cell_type": "code",
   "execution_count": null,
   "id": "1b3b9131-7845-4da2-b721-d20a30df686e",
   "metadata": {},
   "outputs": [],
   "source": []
  }
 ],
 "metadata": {
  "kernelspec": {
   "display_name": "Python 3 (ipykernel)",
   "language": "python",
   "name": "python3"
  },
  "language_info": {
   "codemirror_mode": {
    "name": "ipython",
    "version": 3
   },
   "file_extension": ".py",
   "mimetype": "text/x-python",
   "name": "python",
   "nbconvert_exporter": "python",
   "pygments_lexer": "ipython3",
   "version": "3.11.3"
  }
 },
 "nbformat": 4,
 "nbformat_minor": 5
}
